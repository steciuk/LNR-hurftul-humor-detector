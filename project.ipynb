{
 "cells": [
  {
   "cell_type": "code",
   "execution_count": 1,
   "metadata": {},
   "outputs": [],
   "source": [
    "import os\n",
    "import pandas as pd\n",
    "import nltk\n",
    "from enum import Enum\n",
    "import re\n",
    "import spacy\n",
    "from spacy.tokens import Token\n",
    "from sklearn.feature_extraction.text import TfidfVectorizer\n",
    "from gensim.models import Word2Vec\n",
    "from gensim.models import KeyedVectors\n",
    "import numpy as np"
   ]
  },
  {
   "attachments": {},
   "cell_type": "markdown",
   "metadata": {},
   "source": [
    "# Loading the data"
   ]
  },
  {
   "cell_type": "code",
   "execution_count": 2,
   "metadata": {},
   "outputs": [],
   "source": [
    "TRAIN_PATH = os.path.join(os.getcwd(), 'data', 'train.csv')"
   ]
  },
  {
   "attachments": {},
   "cell_type": "markdown",
   "metadata": {},
   "source": [
    "Let's rename the columns to make them easier to work with."
   ]
  },
  {
   "cell_type": "code",
   "execution_count": 22,
   "metadata": {},
   "outputs": [
    {
     "data": {
      "text/html": [
       "<div>\n",
       "<style scoped>\n",
       "    .dataframe tbody tr th:only-of-type {\n",
       "        vertical-align: middle;\n",
       "    }\n",
       "\n",
       "    .dataframe tbody tr th {\n",
       "        vertical-align: top;\n",
       "    }\n",
       "\n",
       "    .dataframe thead th {\n",
       "        text-align: right;\n",
       "    }\n",
       "</style>\n",
       "<table border=\"1\" class=\"dataframe\">\n",
       "  <thead>\n",
       "    <tr style=\"text-align: right;\">\n",
       "      <th></th>\n",
       "      <th>text</th>\n",
       "      <th>humor</th>\n",
       "      <th>woman</th>\n",
       "      <th>lgbtiq</th>\n",
       "      <th>race</th>\n",
       "      <th>gordofobia</th>\n",
       "      <th>mean</th>\n",
       "    </tr>\n",
       "    <tr>\n",
       "      <th>index</th>\n",
       "      <th></th>\n",
       "      <th></th>\n",
       "      <th></th>\n",
       "      <th></th>\n",
       "      <th></th>\n",
       "      <th></th>\n",
       "      <th></th>\n",
       "    </tr>\n",
       "  </thead>\n",
       "  <tbody>\n",
       "    <tr>\n",
       "      <th>9</th>\n",
       "      <td>MENTION Ya estará colocada en algún chiringuit...</td>\n",
       "      <td>0</td>\n",
       "      <td>1</td>\n",
       "      <td>0</td>\n",
       "      <td>0</td>\n",
       "      <td>0</td>\n",
       "      <td>3.4</td>\n",
       "    </tr>\n",
       "    <tr>\n",
       "      <th>22</th>\n",
       "      <td>Sin querer, hoy le dije “Hola” a una feminista...</td>\n",
       "      <td>1</td>\n",
       "      <td>1</td>\n",
       "      <td>0</td>\n",
       "      <td>0</td>\n",
       "      <td>0</td>\n",
       "      <td>3.8</td>\n",
       "    </tr>\n",
       "    <tr>\n",
       "      <th>30</th>\n",
       "      <td>En este capítulo, que se transmitió en el Cana...</td>\n",
       "      <td>0</td>\n",
       "      <td>0</td>\n",
       "      <td>1</td>\n",
       "      <td>0</td>\n",
       "      <td>0</td>\n",
       "      <td>2.2</td>\n",
       "    </tr>\n",
       "    <tr>\n",
       "      <th>40</th>\n",
       "      <td>MENTION MENTION MENTION Concuerdo contigo en e...</td>\n",
       "      <td>0</td>\n",
       "      <td>0</td>\n",
       "      <td>1</td>\n",
       "      <td>0</td>\n",
       "      <td>0</td>\n",
       "      <td>3.8</td>\n",
       "    </tr>\n",
       "    <tr>\n",
       "      <th>45</th>\n",
       "      <td>– ¡No es no! ¡En mi cuerpo mando yo!\\n– ¡Así s...</td>\n",
       "      <td>1</td>\n",
       "      <td>1</td>\n",
       "      <td>0</td>\n",
       "      <td>0</td>\n",
       "      <td>0</td>\n",
       "      <td>2.2</td>\n",
       "    </tr>\n",
       "  </tbody>\n",
       "</table>\n",
       "</div>"
      ],
      "text/plain": [
       "                                                    text  humor  woman  \\\n",
       "index                                                                    \n",
       "9      MENTION Ya estará colocada en algún chiringuit...      0      1   \n",
       "22     Sin querer, hoy le dije “Hola” a una feminista...      1      1   \n",
       "30     En este capítulo, que se transmitió en el Cana...      0      0   \n",
       "40     MENTION MENTION MENTION Concuerdo contigo en e...      0      0   \n",
       "45     – ¡No es no! ¡En mi cuerpo mando yo!\\n– ¡Así s...      1      1   \n",
       "\n",
       "       lgbtiq  race  gordofobia  mean  \n",
       "index                                  \n",
       "9           0     0           0   3.4  \n",
       "22          0     0           0   3.8  \n",
       "30          1     0           0   2.2  \n",
       "40          1     0           0   3.8  \n",
       "45          0     0           0   2.2  "
      ]
     },
     "metadata": {},
     "output_type": "display_data"
    },
    {
     "data": {
      "text/html": [
       "<div>\n",
       "<style scoped>\n",
       "    .dataframe tbody tr th:only-of-type {\n",
       "        vertical-align: middle;\n",
       "    }\n",
       "\n",
       "    .dataframe tbody tr th {\n",
       "        vertical-align: top;\n",
       "    }\n",
       "\n",
       "    .dataframe thead th {\n",
       "        text-align: right;\n",
       "    }\n",
       "</style>\n",
       "<table border=\"1\" class=\"dataframe\">\n",
       "  <thead>\n",
       "    <tr style=\"text-align: right;\">\n",
       "      <th></th>\n",
       "      <th>humor</th>\n",
       "      <th>woman</th>\n",
       "      <th>lgbtiq</th>\n",
       "      <th>race</th>\n",
       "      <th>gordofobia</th>\n",
       "      <th>mean</th>\n",
       "    </tr>\n",
       "  </thead>\n",
       "  <tbody>\n",
       "    <tr>\n",
       "      <th>count</th>\n",
       "      <td>2671.000000</td>\n",
       "      <td>2671.000000</td>\n",
       "      <td>2671.000000</td>\n",
       "      <td>2671.000000</td>\n",
       "      <td>2671.000000</td>\n",
       "      <td>2671.000000</td>\n",
       "    </tr>\n",
       "    <tr>\n",
       "      <th>mean</th>\n",
       "      <td>0.325346</td>\n",
       "      <td>0.483714</td>\n",
       "      <td>0.227256</td>\n",
       "      <td>0.248596</td>\n",
       "      <td>0.080120</td>\n",
       "      <td>3.053126</td>\n",
       "    </tr>\n",
       "    <tr>\n",
       "      <th>std</th>\n",
       "      <td>0.468592</td>\n",
       "      <td>0.499828</td>\n",
       "      <td>0.419138</td>\n",
       "      <td>0.432280</td>\n",
       "      <td>0.271529</td>\n",
       "      <td>0.809173</td>\n",
       "    </tr>\n",
       "    <tr>\n",
       "      <th>min</th>\n",
       "      <td>0.000000</td>\n",
       "      <td>0.000000</td>\n",
       "      <td>0.000000</td>\n",
       "      <td>0.000000</td>\n",
       "      <td>0.000000</td>\n",
       "      <td>0.400000</td>\n",
       "    </tr>\n",
       "    <tr>\n",
       "      <th>25%</th>\n",
       "      <td>0.000000</td>\n",
       "      <td>0.000000</td>\n",
       "      <td>0.000000</td>\n",
       "      <td>0.000000</td>\n",
       "      <td>0.000000</td>\n",
       "      <td>2.400000</td>\n",
       "    </tr>\n",
       "    <tr>\n",
       "      <th>50%</th>\n",
       "      <td>0.000000</td>\n",
       "      <td>0.000000</td>\n",
       "      <td>0.000000</td>\n",
       "      <td>0.000000</td>\n",
       "      <td>0.000000</td>\n",
       "      <td>3.000000</td>\n",
       "    </tr>\n",
       "    <tr>\n",
       "      <th>75%</th>\n",
       "      <td>1.000000</td>\n",
       "      <td>1.000000</td>\n",
       "      <td>0.000000</td>\n",
       "      <td>0.000000</td>\n",
       "      <td>0.000000</td>\n",
       "      <td>3.600000</td>\n",
       "    </tr>\n",
       "    <tr>\n",
       "      <th>max</th>\n",
       "      <td>1.000000</td>\n",
       "      <td>1.000000</td>\n",
       "      <td>1.000000</td>\n",
       "      <td>1.000000</td>\n",
       "      <td>1.000000</td>\n",
       "      <td>5.000000</td>\n",
       "    </tr>\n",
       "  </tbody>\n",
       "</table>\n",
       "</div>"
      ],
      "text/plain": [
       "             humor        woman       lgbtiq         race   gordofobia  \\\n",
       "count  2671.000000  2671.000000  2671.000000  2671.000000  2671.000000   \n",
       "mean      0.325346     0.483714     0.227256     0.248596     0.080120   \n",
       "std       0.468592     0.499828     0.419138     0.432280     0.271529   \n",
       "min       0.000000     0.000000     0.000000     0.000000     0.000000   \n",
       "25%       0.000000     0.000000     0.000000     0.000000     0.000000   \n",
       "50%       0.000000     0.000000     0.000000     0.000000     0.000000   \n",
       "75%       1.000000     1.000000     0.000000     0.000000     0.000000   \n",
       "max       1.000000     1.000000     1.000000     1.000000     1.000000   \n",
       "\n",
       "              mean  \n",
       "count  2671.000000  \n",
       "mean      3.053126  \n",
       "std       0.809173  \n",
       "min       0.400000  \n",
       "25%       2.400000  \n",
       "50%       3.000000  \n",
       "75%       3.600000  \n",
       "max       5.000000  "
      ]
     },
     "metadata": {},
     "output_type": "display_data"
    }
   ],
   "source": [
    "data_df = pd.read_csv(TRAIN_PATH, index_col='index')\n",
    "data_df = data_df.rename(columns={\n",
    "    'tweet': 'text',\n",
    "    'prejudice_woman': 'woman',\n",
    "    'prejudice_lgbtiq': 'lgbtiq',\n",
    "    'prejudice_inmigrant_race': 'race',\n",
    "    'mean_prejudice': 'mean',\n",
    "})\n",
    "\n",
    "data_df = data_df.sort_index()\n",
    "\n",
    "display(data_df.head(5))\n",
    "display(data_df.describe())\n"
   ]
  },
  {
   "attachments": {},
   "cell_type": "markdown",
   "metadata": {},
   "source": [
    "Let's load the spacy model"
   ]
  },
  {
   "cell_type": "code",
   "execution_count": 4,
   "metadata": {},
   "outputs": [],
   "source": [
    "SPACY_MODEL = \"es_core_news_sm\"\n",
    "# TODO: Try other spanish spacy models: es_core_news_md, es_core_news_lg, es_dep_news_trf\n",
    "\n",
    "try:\n",
    "    nlp = spacy.load(SPACY_MODEL)\n",
    "except OSError:\n",
    "    spacy.cli.download(SPACY_MODEL)\n",
    "    nlp = spacy.load(SPACY_MODEL)\n"
   ]
  },
  {
   "attachments": {},
   "cell_type": "markdown",
   "metadata": {},
   "source": [
    "By using the default pipeline of the spacy model, we can get tokens with information about their part of speech, lemma, whether they are a stop word, etc."
   ]
  },
  {
   "cell_type": "code",
   "execution_count": 5,
   "metadata": {},
   "outputs": [
    {
     "data": {
      "text/html": [
       "<div>\n",
       "<style scoped>\n",
       "    .dataframe tbody tr th:only-of-type {\n",
       "        vertical-align: middle;\n",
       "    }\n",
       "\n",
       "    .dataframe tbody tr th {\n",
       "        vertical-align: top;\n",
       "    }\n",
       "\n",
       "    .dataframe thead th {\n",
       "        text-align: right;\n",
       "    }\n",
       "</style>\n",
       "<table border=\"1\" class=\"dataframe\">\n",
       "  <thead>\n",
       "    <tr style=\"text-align: right;\">\n",
       "      <th></th>\n",
       "      <th>text</th>\n",
       "      <th>humor</th>\n",
       "      <th>woman</th>\n",
       "      <th>lgbtiq</th>\n",
       "      <th>race</th>\n",
       "      <th>gordofobia</th>\n",
       "      <th>mean</th>\n",
       "      <th>tokens</th>\n",
       "    </tr>\n",
       "    <tr>\n",
       "      <th>index</th>\n",
       "      <th></th>\n",
       "      <th></th>\n",
       "      <th></th>\n",
       "      <th></th>\n",
       "      <th></th>\n",
       "      <th></th>\n",
       "      <th></th>\n",
       "      <th></th>\n",
       "    </tr>\n",
       "  </thead>\n",
       "  <tbody>\n",
       "    <tr>\n",
       "      <th>9</th>\n",
       "      <td>MENTION Ya estará colocada en algún chiringuit...</td>\n",
       "      <td>0</td>\n",
       "      <td>1</td>\n",
       "      <td>0</td>\n",
       "      <td>0</td>\n",
       "      <td>0</td>\n",
       "      <td>3.4</td>\n",
       "      <td>[MENTION, Ya, estará, colocada, en, algún, chi...</td>\n",
       "    </tr>\n",
       "    <tr>\n",
       "      <th>22</th>\n",
       "      <td>Sin querer, hoy le dije “Hola” a una feminista...</td>\n",
       "      <td>1</td>\n",
       "      <td>1</td>\n",
       "      <td>0</td>\n",
       "      <td>0</td>\n",
       "      <td>0</td>\n",
       "      <td>3.8</td>\n",
       "      <td>[Sin, querer, ,, hoy, le, dije, “, Hola, ”, a,...</td>\n",
       "    </tr>\n",
       "    <tr>\n",
       "      <th>30</th>\n",
       "      <td>En este capítulo, que se transmitió en el Cana...</td>\n",
       "      <td>0</td>\n",
       "      <td>0</td>\n",
       "      <td>1</td>\n",
       "      <td>0</td>\n",
       "      <td>0</td>\n",
       "      <td>2.2</td>\n",
       "      <td>[En, este, capítulo, ,, que, se, transmitió, e...</td>\n",
       "    </tr>\n",
       "    <tr>\n",
       "      <th>40</th>\n",
       "      <td>MENTION MENTION MENTION Concuerdo contigo en e...</td>\n",
       "      <td>0</td>\n",
       "      <td>0</td>\n",
       "      <td>1</td>\n",
       "      <td>0</td>\n",
       "      <td>0</td>\n",
       "      <td>3.8</td>\n",
       "      <td>[MENTION, MENTION, MENTION, Concuerdo, contigo...</td>\n",
       "    </tr>\n",
       "    <tr>\n",
       "      <th>45</th>\n",
       "      <td>– ¡No es no! ¡En mi cuerpo mando yo!\\n– ¡Así s...</td>\n",
       "      <td>1</td>\n",
       "      <td>1</td>\n",
       "      <td>0</td>\n",
       "      <td>0</td>\n",
       "      <td>0</td>\n",
       "      <td>2.2</td>\n",
       "      <td>[–, ¡, No, es, no, !, ¡, En, mi, cuerpo, mando...</td>\n",
       "    </tr>\n",
       "  </tbody>\n",
       "</table>\n",
       "</div>"
      ],
      "text/plain": [
       "                                                    text  humor  woman  \\\n",
       "index                                                                    \n",
       "9      MENTION Ya estará colocada en algún chiringuit...      0      1   \n",
       "22     Sin querer, hoy le dije “Hola” a una feminista...      1      1   \n",
       "30     En este capítulo, que se transmitió en el Cana...      0      0   \n",
       "40     MENTION MENTION MENTION Concuerdo contigo en e...      0      0   \n",
       "45     – ¡No es no! ¡En mi cuerpo mando yo!\\n– ¡Así s...      1      1   \n",
       "\n",
       "       lgbtiq  race  gordofobia  mean  \\\n",
       "index                                   \n",
       "9           0     0           0   3.4   \n",
       "22          0     0           0   3.8   \n",
       "30          1     0           0   2.2   \n",
       "40          1     0           0   3.8   \n",
       "45          0     0           0   2.2   \n",
       "\n",
       "                                                  tokens  \n",
       "index                                                     \n",
       "9      [MENTION, Ya, estará, colocada, en, algún, chi...  \n",
       "22     [Sin, querer, ,, hoy, le, dije, “, Hola, ”, a,...  \n",
       "30     [En, este, capítulo, ,, que, se, transmitió, e...  \n",
       "40     [MENTION, MENTION, MENTION, Concuerdo, contigo...  \n",
       "45     [–, ¡, No, es, no, !, ¡, En, mi, cuerpo, mando...  "
      ]
     },
     "metadata": {},
     "output_type": "display_data"
    }
   ],
   "source": [
    "# Tokenize text\n",
    "parsed_df = data_df.copy()\n",
    "parsed_df['tokens'] = list(nlp.pipe(parsed_df['text']))\n",
    "parsed_df['tokens'] = parsed_df['tokens'].apply(lambda x: [token for token in x])\n",
    "display(parsed_df.head(5))\n"
   ]
  },
  {
   "cell_type": "code",
   "execution_count": 6,
   "metadata": {},
   "outputs": [
    {
     "name": "stdout",
     "output_type": "stream",
     "text": [
      "Text:  algún\n",
      "Lemma:  alguno\n",
      "POS:  DET\n",
      "Tag:  DET\n",
      "Dep:  det\n",
      "Shape:  xxxx\n",
      "Is alpha:  True\n",
      "Is stop:  True\n"
     ]
    }
   ],
   "source": [
    "# Show some data about a token\n",
    "token: Token = parsed_df['tokens'].iloc[0][5]\n",
    "print(\"Text: \", token.text)\n",
    "print(\"Lemma: \", token.lemma_)\n",
    "print(\"POS: \", token.pos_)\n",
    "print(\"Tag: \", token.tag_)\n",
    "print(\"Dep: \", token.dep_)\n",
    "print(\"Shape: \", token.shape_)\n",
    "print(\"Is alpha: \", token.is_alpha)\n",
    "print(\"Is stop: \", token.is_stop)"
   ]
  },
  {
   "attachments": {},
   "cell_type": "markdown",
   "metadata": {},
   "source": [
    "## Token filtering utility\n",
    "Let's create utility functions to filter the tokens based on their attributes. We can easily use these functions to filter the tokens, build and experiment with different representations of the data in the next steps of the project."
   ]
  },
  {
   "cell_type": "code",
   "execution_count": 7,
   "metadata": {},
   "outputs": [],
   "source": [
    "EMOJI_PATTERN = re.compile(\n",
    "    \"[\"\n",
    "    + \"\\U0001F600-\\U0001F64F\"\n",
    "    + \"\\U0001F300-\\U0001F5FF\"\n",
    "    + \"\\U0001F680-\\U0001F6FF\"\n",
    "    + \"\\U0001F1E0-\\U0001F1FF\"\n",
    "    + \"\\U00002500-\\U00002BEF\"\n",
    "    + \"\\U00002702-\\U000027B0\"\n",
    "    + \"\\U00002702-\\U000027B0\"\n",
    "    + \"\\U000024C2-\\U0001F251\"\n",
    "    + \"\\U0001f926-\\U0001f937\"\n",
    "    + \"\\U00010000-\\U0010ffff\"\n",
    "    + \"\\u2640-\\u2642\"\n",
    "    + \"\\u2600-\\u2B55\"\n",
    "    + \"\\u200d\"\n",
    "    + \"\\u23cf\"\n",
    "    + \"\\u23e9\"\n",
    "    + \"\\u231a\"\n",
    "    + \"\\ufe0f\"\n",
    "    + \"\\u3030\"\n",
    "    + \"]+\",\n",
    "    flags=re.UNICODE,\n",
    ")\n",
    "\n",
    "try:\n",
    "    STOPWORDS = nltk.corpus.stopwords.words(\"spanish\")\n",
    "except LookupError:\n",
    "    nltk.download(\"stopwords\")\n",
    "    STOPWORDS = nltk.corpus.stopwords.words(\"spanish\")"
   ]
  },
  {
   "cell_type": "code",
   "execution_count": 8,
   "metadata": {},
   "outputs": [],
   "source": [
    "FILTER_FUNC = {\n",
    "    \"punct\": lambda token: token.is_punct,\n",
    "    \"stopwords\": lambda token: token.text.lower() in STOPWORDS,\n",
    "    \"emoji\": lambda token: EMOJI_PATTERN.match(token.text),\n",
    "    \"number\": lambda token: token.like_num,\n",
    "    \"newline\": lambda token: re.match(r\"\\n+\", token.text),\n",
    "    \"space\": lambda token: token.is_space and not re.match(r\"\\n+\", token.text),\n",
    "    \"tags\": lambda token: token.text in [\"MENTION\", \"HASHTAG\", \"URL\"]\n",
    "}\n",
    "\n",
    "class Filter(Enum):\n",
    "    PUNCT = \"punct\"\n",
    "    STOPWORDS = \"stopwords\"\n",
    "    EMOJI = \"emoji\"\n",
    "    NUMBER = \"number\"\n",
    "    NEWLINE = \"newline\"\n",
    "    SPACE = \"space\"\n",
    "    TAGS = \"tags\"\n",
    "\n",
    "\n",
    "def filter_tokens(series: pd.Series, filters: list[Filter]) -> pd.Series:\n",
    "    '''\n",
    "    Filters a series of tokens using the given filters.\n",
    "    args:\n",
    "        series: a series of lists of tokens\n",
    "        filters: a list of filters to apply\n",
    "    returns:\n",
    "        a series of lists of tokens\n",
    "    '''\n",
    "    return series.apply(\n",
    "        lambda tokens: [token for token in tokens if not any([FILTER_FUNC[filter.value](token) for filter in filters])]\n",
    "    )"
   ]
  },
  {
   "cell_type": "code",
   "execution_count": 9,
   "metadata": {},
   "outputs": [
    {
     "name": "stdout",
     "output_type": "stream",
     "text": [
      "Test passed!\n",
      "Test passed!\n",
      "Test passed!\n",
      "Test passed!\n",
      "Test passed!\n",
      "Test passed!\n",
      "Test passed!\n"
     ]
    }
   ],
   "source": [
    "def test_filter_tokens(result, expected):\n",
    "    error = False\n",
    "    for token, expected_token in zip(result, expected):\n",
    "        try:\n",
    "            assert token.text == expected_token\n",
    "        except AssertionError:\n",
    "            print(f\"Expected: '{expected_token}', got: '{token.text}'\")\n",
    "            error = True\n",
    "\n",
    "    if not error:\n",
    "        print(\"Test passed!\")\n",
    "\n",
    "# test Filter.PUNCT\n",
    "result = filter_tokens(parsed_df['tokens'], [Filter.PUNCT]).loc[22]\n",
    "expected = ['Sin', 'querer', 'hoy', 'le', 'dije', 'Hola', 'a', 'una', 'feminista', 'El', 'juicio', 'es', 'mañana', '\\n\\n', 'HASHTAG', '   ', 'feminismo', '  ']\n",
    "test_filter_tokens(result, expected)\n",
    "\n",
    "# test Filter.STOPWORDS\n",
    "result = filter_tokens(parsed_df['tokens'], [Filter.STOPWORDS]).loc[9]\n",
    "expected = ['MENTION', 'colocada', 'algún', 'chiringuito', 'feminazi']\n",
    "test_filter_tokens(result, expected)\n",
    "\n",
    "# test Filter.EMOJI\n",
    "result = filter_tokens(parsed_df['tokens'], [Filter.EMOJI]).loc[75]\n",
    "expected = ['Demasiadas', 'mujeres', ',', 'demasiadas', 'mujeres', '\\n', 'URL']\n",
    "test_filter_tokens(result, expected)\n",
    "\n",
    "# test Filter.NUMBER\n",
    "result = filter_tokens(parsed_df['tokens'], [Filter.NUMBER]).loc[5245]\n",
    "expected = ['Acá', 'te', 'lo', 'aclaro', ':', '\\n', 'de', 'octubre', ':', 'Día', 'de', 'brujas', '(', 'Mujeres', ')', '\\n', 'de', 'noviembre', ':', 'Día', 'de', 'todos', 'los', 'santos', '(', 'Hombres', ')', '\\n', 'noviembre', ':', 'Día', 'de', 'los', 'difuntos', '(', 'Hombres', 'que', 'se', 'animaron', 'a', 'decirle', 'brujas', 'a', 'las', 'mujeres', ')']\n",
    "test_filter_tokens(result, expected)\n",
    "\n",
    "# test Filter.NEWLINE\n",
    "result = filter_tokens(parsed_df['tokens'], [Filter.NEWLINE]).loc[22]\n",
    "expected = ['Sin', 'querer', ',', 'hoy', 'le', 'dije', '“', 'Hola', '”', 'a', 'una', 'feminista', '.', 'El', 'juicio', 'es', 'mañana', '.', 'HASHTAG', '   ', 'feminismo', '  ', '#']\n",
    "test_filter_tokens(result, expected)\n",
    "\n",
    "# test Filter.SPACE\n",
    "result = filter_tokens(parsed_df['tokens'], [Filter.SPACE]).loc[22]\n",
    "expected = ['Sin', 'querer', ',', 'hoy', 'le', 'dije', '“', 'Hola', '”', 'a', 'una', 'feminista', '.', 'El', 'juicio', 'es', 'mañana', '.', '\\n\\n', 'HASHTAG', 'feminismo', '#']\n",
    "\n",
    "# test Filter.TAGS\n",
    "result = filter_tokens(parsed_df['tokens'], [Filter.TAGS]).loc[14869]\n",
    "# FIXME: Notice that when there is no space between `-` and the next word, both are recognized as a single token\n",
    "expected = ['  ', '  ', '  \\n', '-Te', 'cuento', 'un', 'chiste', 'machista', '?', '\\n', '-Pero', 'que', 'dices', ',', 'si', 'soy', 'mujer', '.', '\\n', '-Tranquila', ',', 'te', 'lo', 'explico', '.']\n",
    "test_filter_tokens(result, expected)\n",
    "\n",
    "\n",
    "# test all\n",
    "result = filter_tokens(parsed_df['tokens'], [Filter.PUNCT, Filter.STOPWORDS, Filter.EMOJI, Filter.NUMBER, Filter.NEWLINE, Filter.SPACE]).loc[5245]\n",
    "expected = ['Acá', 'aclaro', 'octubre', 'Día', 'brujas', 'Mujeres', 'noviembre', 'Día', 'santos', 'Hombres', 'noviembre', 'Día', 'difuntos', 'Hombres', 'animaron', 'decirle', 'brujas', 'mujeres']\n",
    "test_filter_tokens(result, expected)"
   ]
  },
  {
   "attachments": {},
   "cell_type": "markdown",
   "metadata": {},
   "source": [
    "# Representation of the data\n",
    "## TF-IDF\n",
    "TODO: Try different token filtering options for TF-IDF"
   ]
  },
  {
   "cell_type": "code",
   "execution_count": 31,
   "metadata": {},
   "outputs": [
    {
     "data": {
      "text/html": [
       "<div>\n",
       "<style scoped>\n",
       "    .dataframe tbody tr th:only-of-type {\n",
       "        vertical-align: middle;\n",
       "    }\n",
       "\n",
       "    .dataframe tbody tr th {\n",
       "        vertical-align: top;\n",
       "    }\n",
       "\n",
       "    .dataframe thead th {\n",
       "        text-align: right;\n",
       "    }\n",
       "</style>\n",
       "<table border=\"1\" class=\"dataframe\">\n",
       "  <thead>\n",
       "    <tr style=\"text-align: right;\">\n",
       "      <th></th>\n",
       "      <th>text</th>\n",
       "      <th>humor</th>\n",
       "      <th>woman</th>\n",
       "      <th>lgbtiq</th>\n",
       "      <th>race</th>\n",
       "      <th>gordofobia</th>\n",
       "      <th>mean</th>\n",
       "      <th>tokens</th>\n",
       "      <th>processed</th>\n",
       "      <th>representation</th>\n",
       "    </tr>\n",
       "    <tr>\n",
       "      <th>index</th>\n",
       "      <th></th>\n",
       "      <th></th>\n",
       "      <th></th>\n",
       "      <th></th>\n",
       "      <th></th>\n",
       "      <th></th>\n",
       "      <th></th>\n",
       "      <th></th>\n",
       "      <th></th>\n",
       "      <th></th>\n",
       "    </tr>\n",
       "  </thead>\n",
       "  <tbody>\n",
       "    <tr>\n",
       "      <th>9</th>\n",
       "      <td>MENTION Ya estará colocada en algún chiringuit...</td>\n",
       "      <td>0</td>\n",
       "      <td>1</td>\n",
       "      <td>0</td>\n",
       "      <td>0</td>\n",
       "      <td>0</td>\n",
       "      <td>3.4</td>\n",
       "      <td>[MENTION, Ya, estará, colocada, en, algún, chi...</td>\n",
       "      <td>mention colocado alguno chiringuito feminazi</td>\n",
       "      <td>[0.0, 0.0, 0.0, 0.0, 0.0, 0.0, 0.0, 0.0, 0.0, ...</td>\n",
       "    </tr>\n",
       "    <tr>\n",
       "      <th>22</th>\n",
       "      <td>Sin querer, hoy le dije “Hola” a una feminista...</td>\n",
       "      <td>1</td>\n",
       "      <td>1</td>\n",
       "      <td>0</td>\n",
       "      <td>0</td>\n",
       "      <td>0</td>\n",
       "      <td>3.8</td>\n",
       "      <td>[Sin, querer, ,, hoy, le, dije, “, Hola, ”, a,...</td>\n",
       "      <td>querer hoy decir hola feminista juicio mañana ...</td>\n",
       "      <td>[0.0, 0.0, 0.0, 0.0, 0.0, 0.0, 0.0, 0.0, 0.0, ...</td>\n",
       "    </tr>\n",
       "    <tr>\n",
       "      <th>30</th>\n",
       "      <td>En este capítulo, que se transmitió en el Cana...</td>\n",
       "      <td>0</td>\n",
       "      <td>0</td>\n",
       "      <td>1</td>\n",
       "      <td>0</td>\n",
       "      <td>0</td>\n",
       "      <td>2.2</td>\n",
       "      <td>[En, este, capítulo, ,, que, se, transmitió, e...</td>\n",
       "      <td>capítulo transmitir canal televisión británico...</td>\n",
       "      <td>[0.0, 0.0, 0.0, 0.0, 0.0, 0.0, 0.0, 0.0, 0.0, ...</td>\n",
       "    </tr>\n",
       "    <tr>\n",
       "      <th>40</th>\n",
       "      <td>MENTION MENTION MENTION Concuerdo contigo en e...</td>\n",
       "      <td>0</td>\n",
       "      <td>0</td>\n",
       "      <td>1</td>\n",
       "      <td>0</td>\n",
       "      <td>0</td>\n",
       "      <td>3.8</td>\n",
       "      <td>[MENTION, MENTION, MENTION, Concuerdo, contigo...</td>\n",
       "      <td>mention mention mention concuerdo contigo supe...</td>\n",
       "      <td>[0.0, 0.0, 0.0, 0.0, 0.0, 0.0, 0.0, 0.0, 0.0, ...</td>\n",
       "    </tr>\n",
       "    <tr>\n",
       "      <th>45</th>\n",
       "      <td>– ¡No es no! ¡En mi cuerpo mando yo!\\n– ¡Así s...</td>\n",
       "      <td>1</td>\n",
       "      <td>1</td>\n",
       "      <td>0</td>\n",
       "      <td>0</td>\n",
       "      <td>0</td>\n",
       "      <td>2.2</td>\n",
       "      <td>[–, ¡, No, es, no, !, ¡, En, mi, cuerpo, mando...</td>\n",
       "      <td>cuerpo mando así hablar empoderada poder abort...</td>\n",
       "      <td>[0.0, 0.0, 0.0, 0.0, 0.0, 0.0, 0.0, 0.0, 0.0, ...</td>\n",
       "    </tr>\n",
       "  </tbody>\n",
       "</table>\n",
       "</div>"
      ],
      "text/plain": [
       "                                                    text  humor  woman  \\\n",
       "index                                                                    \n",
       "9      MENTION Ya estará colocada en algún chiringuit...      0      1   \n",
       "22     Sin querer, hoy le dije “Hola” a una feminista...      1      1   \n",
       "30     En este capítulo, que se transmitió en el Cana...      0      0   \n",
       "40     MENTION MENTION MENTION Concuerdo contigo en e...      0      0   \n",
       "45     – ¡No es no! ¡En mi cuerpo mando yo!\\n– ¡Así s...      1      1   \n",
       "\n",
       "       lgbtiq  race  gordofobia  mean  \\\n",
       "index                                   \n",
       "9           0     0           0   3.4   \n",
       "22          0     0           0   3.8   \n",
       "30          1     0           0   2.2   \n",
       "40          1     0           0   3.8   \n",
       "45          0     0           0   2.2   \n",
       "\n",
       "                                                  tokens  \\\n",
       "index                                                      \n",
       "9      [MENTION, Ya, estará, colocada, en, algún, chi...   \n",
       "22     [Sin, querer, ,, hoy, le, dije, “, Hola, ”, a,...   \n",
       "30     [En, este, capítulo, ,, que, se, transmitió, e...   \n",
       "40     [MENTION, MENTION, MENTION, Concuerdo, contigo...   \n",
       "45     [–, ¡, No, es, no, !, ¡, En, mi, cuerpo, mando...   \n",
       "\n",
       "                                               processed  \\\n",
       "index                                                      \n",
       "9           mention colocado alguno chiringuito feminazi   \n",
       "22     querer hoy decir hola feminista juicio mañana ...   \n",
       "30     capítulo transmitir canal televisión británico...   \n",
       "40     mention mention mention concuerdo contigo supe...   \n",
       "45     cuerpo mando así hablar empoderada poder abort...   \n",
       "\n",
       "                                          representation  \n",
       "index                                                     \n",
       "9      [0.0, 0.0, 0.0, 0.0, 0.0, 0.0, 0.0, 0.0, 0.0, ...  \n",
       "22     [0.0, 0.0, 0.0, 0.0, 0.0, 0.0, 0.0, 0.0, 0.0, ...  \n",
       "30     [0.0, 0.0, 0.0, 0.0, 0.0, 0.0, 0.0, 0.0, 0.0, ...  \n",
       "40     [0.0, 0.0, 0.0, 0.0, 0.0, 0.0, 0.0, 0.0, 0.0, ...  \n",
       "45     [0.0, 0.0, 0.0, 0.0, 0.0, 0.0, 0.0, 0.0, 0.0, ...  "
      ]
     },
     "metadata": {},
     "output_type": "display_data"
    }
   ],
   "source": [
    "# Remove stopwords, punctuations, emojis, numbers, newlines and spaces\n",
    "tf_idf_df = parsed_df.copy()\n",
    "tf_idf_df['processed'] = filter_tokens(tf_idf_df['tokens'], [Filter.PUNCT, Filter.STOPWORDS, Filter.EMOJI, Filter.NUMBER, Filter.NEWLINE, Filter.SPACE])\n",
    "\n",
    "# Use lemmas instead of tokens\n",
    "tf_idf_df['processed'] = tf_idf_df['processed'].apply(lambda tokens: [token.lemma_ for token in tokens])\n",
    "\n",
    "# Concat all tokens into a single string\n",
    "# This is needed for the TF-IDF vectorizer\n",
    "tf_idf_df['processed'] = tf_idf_df['processed'].apply(lambda tokens: ' '.join(tokens))\n",
    "\n",
    "# lowercase\n",
    "tf_idf_df['processed'] = tf_idf_df['processed'].apply(lambda tokens: tokens.lower())\n",
    "\n",
    "# TF-IDF vectorizer\n",
    "tf_idf_vectorizer = TfidfVectorizer()\n",
    "tf_idf_df[\"representation\"] = tf_idf_vectorizer.fit_transform(tf_idf_df['processed']).toarray().tolist()\n",
    "\n",
    "display(tf_idf_df.head())"
   ]
  },
  {
   "cell_type": "code",
   "execution_count": 32,
   "metadata": {},
   "outputs": [
    {
     "name": "stdout",
     "output_type": "stream",
     "text": [
      "Length of tf-idf vector: 7868\n"
     ]
    }
   ],
   "source": [
    "print(f\"Length of tf-idf vector: {len(tf_idf_df['representation'].iloc[0])}\")"
   ]
  },
  {
   "attachments": {},
   "cell_type": "markdown",
   "metadata": {},
   "source": [
    "## Word embeddings\n",
    "### FastText Spanish Unannotated Corpora\n",
    "Pre-trained word embeddings were downloaded from [dccuchile/spanish-word-embeddings](https://github.com/dccuchile/spanish-word-embeddings#fasttext-embeddings-from-suc).\n",
    "\n",
    "According to [josecannete/spanish-corpora](https://github.com/josecannete/spanish-corpora) the corpus on which the FastText embeddings were trained was processed in the following way:\n",
    "\n",
    "> - Lowercase\n",
    "> - Removed urls\n",
    "> - Removed listing\n",
    "> - Replaced multiple spaces with single one\n",
    "\n",
    "so in order to get the best results we will need to do the same. Urls in the training set are replaced with the string `URL` but we will remove them anyway. We will do the same for hashtags and mentions."
   ]
  },
  {
   "cell_type": "code",
   "execution_count": 33,
   "metadata": {},
   "outputs": [
    {
     "data": {
      "text/html": [
       "<div>\n",
       "<style scoped>\n",
       "    .dataframe tbody tr th:only-of-type {\n",
       "        vertical-align: middle;\n",
       "    }\n",
       "\n",
       "    .dataframe tbody tr th {\n",
       "        vertical-align: top;\n",
       "    }\n",
       "\n",
       "    .dataframe thead th {\n",
       "        text-align: right;\n",
       "    }\n",
       "</style>\n",
       "<table border=\"1\" class=\"dataframe\">\n",
       "  <thead>\n",
       "    <tr style=\"text-align: right;\">\n",
       "      <th></th>\n",
       "      <th>text</th>\n",
       "      <th>humor</th>\n",
       "      <th>woman</th>\n",
       "      <th>lgbtiq</th>\n",
       "      <th>race</th>\n",
       "      <th>gordofobia</th>\n",
       "      <th>mean</th>\n",
       "      <th>tokens</th>\n",
       "      <th>processed</th>\n",
       "    </tr>\n",
       "    <tr>\n",
       "      <th>index</th>\n",
       "      <th></th>\n",
       "      <th></th>\n",
       "      <th></th>\n",
       "      <th></th>\n",
       "      <th></th>\n",
       "      <th></th>\n",
       "      <th></th>\n",
       "      <th></th>\n",
       "      <th></th>\n",
       "    </tr>\n",
       "  </thead>\n",
       "  <tbody>\n",
       "    <tr>\n",
       "      <th>9</th>\n",
       "      <td>MENTION Ya estará colocada en algún chiringuit...</td>\n",
       "      <td>0</td>\n",
       "      <td>1</td>\n",
       "      <td>0</td>\n",
       "      <td>0</td>\n",
       "      <td>0</td>\n",
       "      <td>3.4</td>\n",
       "      <td>[MENTION, Ya, estará, colocada, en, algún, chi...</td>\n",
       "      <td>[Ya, estará, colocada, en, algún, chiringuito,...</td>\n",
       "    </tr>\n",
       "    <tr>\n",
       "      <th>22</th>\n",
       "      <td>Sin querer, hoy le dije “Hola” a una feminista...</td>\n",
       "      <td>1</td>\n",
       "      <td>1</td>\n",
       "      <td>0</td>\n",
       "      <td>0</td>\n",
       "      <td>0</td>\n",
       "      <td>3.8</td>\n",
       "      <td>[Sin, querer, ,, hoy, le, dije, “, Hola, ”, a,...</td>\n",
       "      <td>[Sin, querer, ,, hoy, le, dije, “, Hola, ”, a,...</td>\n",
       "    </tr>\n",
       "    <tr>\n",
       "      <th>30</th>\n",
       "      <td>En este capítulo, que se transmitió en el Cana...</td>\n",
       "      <td>0</td>\n",
       "      <td>0</td>\n",
       "      <td>1</td>\n",
       "      <td>0</td>\n",
       "      <td>0</td>\n",
       "      <td>2.2</td>\n",
       "      <td>[En, este, capítulo, ,, que, se, transmitió, e...</td>\n",
       "      <td>[En, este, capítulo, ,, que, se, transmitió, e...</td>\n",
       "    </tr>\n",
       "    <tr>\n",
       "      <th>40</th>\n",
       "      <td>MENTION MENTION MENTION Concuerdo contigo en e...</td>\n",
       "      <td>0</td>\n",
       "      <td>0</td>\n",
       "      <td>1</td>\n",
       "      <td>0</td>\n",
       "      <td>0</td>\n",
       "      <td>3.8</td>\n",
       "      <td>[MENTION, MENTION, MENTION, Concuerdo, contigo...</td>\n",
       "      <td>[Concuerdo, contigo, en, eso, ,, super, repugn...</td>\n",
       "    </tr>\n",
       "    <tr>\n",
       "      <th>45</th>\n",
       "      <td>– ¡No es no! ¡En mi cuerpo mando yo!\\n– ¡Así s...</td>\n",
       "      <td>1</td>\n",
       "      <td>1</td>\n",
       "      <td>0</td>\n",
       "      <td>0</td>\n",
       "      <td>0</td>\n",
       "      <td>2.2</td>\n",
       "      <td>[–, ¡, No, es, no, !, ¡, En, mi, cuerpo, mando...</td>\n",
       "      <td>[–, ¡, No, es, no, !, ¡, En, mi, cuerpo, mando...</td>\n",
       "    </tr>\n",
       "  </tbody>\n",
       "</table>\n",
       "</div>"
      ],
      "text/plain": [
       "                                                    text  humor  woman  \\\n",
       "index                                                                    \n",
       "9      MENTION Ya estará colocada en algún chiringuit...      0      1   \n",
       "22     Sin querer, hoy le dije “Hola” a una feminista...      1      1   \n",
       "30     En este capítulo, que se transmitió en el Cana...      0      0   \n",
       "40     MENTION MENTION MENTION Concuerdo contigo en e...      0      0   \n",
       "45     – ¡No es no! ¡En mi cuerpo mando yo!\\n– ¡Así s...      1      1   \n",
       "\n",
       "       lgbtiq  race  gordofobia  mean  \\\n",
       "index                                   \n",
       "9           0     0           0   3.4   \n",
       "22          0     0           0   3.8   \n",
       "30          1     0           0   2.2   \n",
       "40          1     0           0   3.8   \n",
       "45          0     0           0   2.2   \n",
       "\n",
       "                                                  tokens  \\\n",
       "index                                                      \n",
       "9      [MENTION, Ya, estará, colocada, en, algún, chi...   \n",
       "22     [Sin, querer, ,, hoy, le, dije, “, Hola, ”, a,...   \n",
       "30     [En, este, capítulo, ,, que, se, transmitió, e...   \n",
       "40     [MENTION, MENTION, MENTION, Concuerdo, contigo...   \n",
       "45     [–, ¡, No, es, no, !, ¡, En, mi, cuerpo, mando...   \n",
       "\n",
       "                                               processed  \n",
       "index                                                     \n",
       "9      [Ya, estará, colocada, en, algún, chiringuito,...  \n",
       "22     [Sin, querer, ,, hoy, le, dije, “, Hola, ”, a,...  \n",
       "30     [En, este, capítulo, ,, que, se, transmitió, e...  \n",
       "40     [Concuerdo, contigo, en, eso, ,, super, repugn...  \n",
       "45     [–, ¡, No, es, no, !, ¡, En, mi, cuerpo, mando...  "
      ]
     },
     "execution_count": 33,
     "metadata": {},
     "output_type": "execute_result"
    }
   ],
   "source": [
    "fast_text_suc_df = parsed_df.copy()\n",
    "fast_text_suc_df['processed'] = filter_tokens(fast_text_suc_df['tokens'], [Filter.SPACE, Filter.TAGS, Filter.NEWLINE])\n",
    "fast_text_suc_df['processed'] = fast_text_suc_df['processed'].apply(lambda tokens: [token.text for token in tokens])\n",
    "\n",
    "fast_text_suc_df.head()"
   ]
  },
  {
   "cell_type": "code",
   "execution_count": 34,
   "metadata": {},
   "outputs": [],
   "source": [
    "# Load FastText model\n",
    "FAST_TEXT_SUC_PATH = os.path.join(os.getcwd(), 'embeddings', 'fasttext', 'embeddings-l-model.vec')\n",
    "fast_text_suc_model = KeyedVectors.load_word2vec_format(FAST_TEXT_SUC_PATH)"
   ]
  },
  {
   "cell_type": "code",
   "execution_count": 35,
   "metadata": {},
   "outputs": [
    {
     "name": "stdout",
     "output_type": "stream",
     "text": [
      "300\n"
     ]
    }
   ],
   "source": [
    "fast_text_suc_vec_len = len(fast_text_suc_model['hola'])\n",
    "print(fast_text_suc_vec_len)"
   ]
  },
  {
   "cell_type": "code",
   "execution_count": 15,
   "metadata": {},
   "outputs": [],
   "source": [
    "# Represent each sentence as the average of its word embeddings\n",
    "def get_sentence_embedding(tokens: list[str], model):\n",
    "    embeddings = []\n",
    "    at_least_one = False\n",
    "    for token in tokens:\n",
    "        try:\n",
    "            embeddings.append(model[token])\n",
    "            at_least_one = True\n",
    "        except KeyError:\n",
    "            pass\n",
    "\n",
    "    if not at_least_one:\n",
    "        return np.zeros(fast_text_suc_vec_len)\n",
    "    \n",
    "    return np.mean(embeddings, axis=0)\n",
    "    "
   ]
  },
  {
   "cell_type": "code",
   "execution_count": 36,
   "metadata": {},
   "outputs": [
    {
     "data": {
      "text/html": [
       "<div>\n",
       "<style scoped>\n",
       "    .dataframe tbody tr th:only-of-type {\n",
       "        vertical-align: middle;\n",
       "    }\n",
       "\n",
       "    .dataframe tbody tr th {\n",
       "        vertical-align: top;\n",
       "    }\n",
       "\n",
       "    .dataframe thead th {\n",
       "        text-align: right;\n",
       "    }\n",
       "</style>\n",
       "<table border=\"1\" class=\"dataframe\">\n",
       "  <thead>\n",
       "    <tr style=\"text-align: right;\">\n",
       "      <th></th>\n",
       "      <th>text</th>\n",
       "      <th>humor</th>\n",
       "      <th>woman</th>\n",
       "      <th>lgbtiq</th>\n",
       "      <th>race</th>\n",
       "      <th>gordofobia</th>\n",
       "      <th>mean</th>\n",
       "      <th>tokens</th>\n",
       "      <th>processed</th>\n",
       "      <th>representation</th>\n",
       "    </tr>\n",
       "    <tr>\n",
       "      <th>index</th>\n",
       "      <th></th>\n",
       "      <th></th>\n",
       "      <th></th>\n",
       "      <th></th>\n",
       "      <th></th>\n",
       "      <th></th>\n",
       "      <th></th>\n",
       "      <th></th>\n",
       "      <th></th>\n",
       "      <th></th>\n",
       "    </tr>\n",
       "  </thead>\n",
       "  <tbody>\n",
       "    <tr>\n",
       "      <th>9</th>\n",
       "      <td>MENTION Ya estará colocada en algún chiringuit...</td>\n",
       "      <td>0</td>\n",
       "      <td>1</td>\n",
       "      <td>0</td>\n",
       "      <td>0</td>\n",
       "      <td>0</td>\n",
       "      <td>3.4</td>\n",
       "      <td>[MENTION, Ya, estará, colocada, en, algún, chi...</td>\n",
       "      <td>[Ya, estará, colocada, en, algún, chiringuito,...</td>\n",
       "      <td>[-0.4105145, -0.476945, 0.033990335, -0.420986...</td>\n",
       "    </tr>\n",
       "    <tr>\n",
       "      <th>22</th>\n",
       "      <td>Sin querer, hoy le dije “Hola” a una feminista...</td>\n",
       "      <td>1</td>\n",
       "      <td>1</td>\n",
       "      <td>0</td>\n",
       "      <td>0</td>\n",
       "      <td>0</td>\n",
       "      <td>3.8</td>\n",
       "      <td>[Sin, querer, ,, hoy, le, dije, “, Hola, ”, a,...</td>\n",
       "      <td>[Sin, querer, ,, hoy, le, dije, “, Hola, ”, a,...</td>\n",
       "      <td>[-0.16515553, -0.28686935, -0.049638003, -0.20...</td>\n",
       "    </tr>\n",
       "    <tr>\n",
       "      <th>30</th>\n",
       "      <td>En este capítulo, que se transmitió en el Cana...</td>\n",
       "      <td>0</td>\n",
       "      <td>0</td>\n",
       "      <td>1</td>\n",
       "      <td>0</td>\n",
       "      <td>0</td>\n",
       "      <td>2.2</td>\n",
       "      <td>[En, este, capítulo, ,, que, se, transmitió, e...</td>\n",
       "      <td>[En, este, capítulo, ,, que, se, transmitió, e...</td>\n",
       "      <td>[-0.11882315, -0.25109497, -0.058445625, -0.14...</td>\n",
       "    </tr>\n",
       "    <tr>\n",
       "      <th>40</th>\n",
       "      <td>MENTION MENTION MENTION Concuerdo contigo en e...</td>\n",
       "      <td>0</td>\n",
       "      <td>0</td>\n",
       "      <td>1</td>\n",
       "      <td>0</td>\n",
       "      <td>0</td>\n",
       "      <td>3.8</td>\n",
       "      <td>[MENTION, MENTION, MENTION, Concuerdo, contigo...</td>\n",
       "      <td>[Concuerdo, contigo, en, eso, ,, super, repugn...</td>\n",
       "      <td>[-0.17745455, -0.30860102, 0.021036755, -0.256...</td>\n",
       "    </tr>\n",
       "    <tr>\n",
       "      <th>45</th>\n",
       "      <td>– ¡No es no! ¡En mi cuerpo mando yo!\\n– ¡Así s...</td>\n",
       "      <td>1</td>\n",
       "      <td>1</td>\n",
       "      <td>0</td>\n",
       "      <td>0</td>\n",
       "      <td>0</td>\n",
       "      <td>2.2</td>\n",
       "      <td>[–, ¡, No, es, no, !, ¡, En, mi, cuerpo, mando...</td>\n",
       "      <td>[–, ¡, No, es, no, !, ¡, En, mi, cuerpo, mando...</td>\n",
       "      <td>[-0.18298145, -0.38118437, 0.024085896, -0.004...</td>\n",
       "    </tr>\n",
       "  </tbody>\n",
       "</table>\n",
       "</div>"
      ],
      "text/plain": [
       "                                                    text  humor  woman  \\\n",
       "index                                                                    \n",
       "9      MENTION Ya estará colocada en algún chiringuit...      0      1   \n",
       "22     Sin querer, hoy le dije “Hola” a una feminista...      1      1   \n",
       "30     En este capítulo, que se transmitió en el Cana...      0      0   \n",
       "40     MENTION MENTION MENTION Concuerdo contigo en e...      0      0   \n",
       "45     – ¡No es no! ¡En mi cuerpo mando yo!\\n– ¡Así s...      1      1   \n",
       "\n",
       "       lgbtiq  race  gordofobia  mean  \\\n",
       "index                                   \n",
       "9           0     0           0   3.4   \n",
       "22          0     0           0   3.8   \n",
       "30          1     0           0   2.2   \n",
       "40          1     0           0   3.8   \n",
       "45          0     0           0   2.2   \n",
       "\n",
       "                                                  tokens  \\\n",
       "index                                                      \n",
       "9      [MENTION, Ya, estará, colocada, en, algún, chi...   \n",
       "22     [Sin, querer, ,, hoy, le, dije, “, Hola, ”, a,...   \n",
       "30     [En, este, capítulo, ,, que, se, transmitió, e...   \n",
       "40     [MENTION, MENTION, MENTION, Concuerdo, contigo...   \n",
       "45     [–, ¡, No, es, no, !, ¡, En, mi, cuerpo, mando...   \n",
       "\n",
       "                                               processed  \\\n",
       "index                                                      \n",
       "9      [Ya, estará, colocada, en, algún, chiringuito,...   \n",
       "22     [Sin, querer, ,, hoy, le, dije, “, Hola, ”, a,...   \n",
       "30     [En, este, capítulo, ,, que, se, transmitió, e...   \n",
       "40     [Concuerdo, contigo, en, eso, ,, super, repugn...   \n",
       "45     [–, ¡, No, es, no, !, ¡, En, mi, cuerpo, mando...   \n",
       "\n",
       "                                          representation  \n",
       "index                                                     \n",
       "9      [-0.4105145, -0.476945, 0.033990335, -0.420986...  \n",
       "22     [-0.16515553, -0.28686935, -0.049638003, -0.20...  \n",
       "30     [-0.11882315, -0.25109497, -0.058445625, -0.14...  \n",
       "40     [-0.17745455, -0.30860102, 0.021036755, -0.256...  \n",
       "45     [-0.18298145, -0.38118437, 0.024085896, -0.004...  "
      ]
     },
     "metadata": {},
     "output_type": "display_data"
    }
   ],
   "source": [
    "fast_text_suc_df['representation'] = fast_text_suc_df['processed'].apply(lambda tokens: get_sentence_embedding(tokens, fast_text_suc_model))\n",
    "display(fast_text_suc_df.head())"
   ]
  },
  {
   "cell_type": "code",
   "execution_count": 37,
   "metadata": {},
   "outputs": [
    {
     "name": "stdout",
     "output_type": "stream",
     "text": [
      "Length of FastText embedding vector: 300\n"
     ]
    }
   ],
   "source": [
    "print(f\"Length of FastText embedding vector: {len(fast_text_suc_df['representation'].iloc[0])}\")"
   ]
  },
  {
   "attachments": {},
   "cell_type": "markdown",
   "metadata": {},
   "source": [
    "### TODO: Word2Vec\n",
    "Pre-trained word2vec embeddings were downloaded from [aitoralmeida/spanish_word2vec](https://github.com/aitoralmeida/spanish_word2vec).\n",
    "\n",
    "Aitor Almeida, & Aritz Bilbao. (2018). Spanish 3B words Word2Vec Embeddings (Version 1.0) [Data set]. Zenodo. http://doi.org/10.5281/zenodo.1410403\n",
    "Bilbao-Jayo, A., & Almeida, A. (2018). Automatic political discourse analysis with multi-scale convolutional neural networks and contextual data. International Journal of Distributed Sensor Networks, 14(11), 1550147718811827."
   ]
  },
  {
   "cell_type": "code",
   "execution_count": 129,
   "metadata": {},
   "outputs": [],
   "source": [
    "# Load pre-trained word embeddings\n",
    "word2vec_path = os.path.join(os.getcwd(), 'embeddings', 'word2vec', 'complete.kv')\n"
   ]
  },
  {
   "attachments": {},
   "cell_type": "markdown",
   "metadata": {},
   "source": [
    "### TODO: GloVe"
   ]
  },
  {
   "attachments": {},
   "cell_type": "markdown",
   "metadata": {},
   "source": [
    "# Prediction models"
   ]
  },
  {
   "cell_type": "code",
   "execution_count": 40,
   "metadata": {},
   "outputs": [],
   "source": [
    "from sklearn.base import BaseEstimator\n",
    "from sklearn.model_selection import GridSearchCV, KFold, train_test_split\n",
    "import pickle"
   ]
  },
  {
   "cell_type": "code",
   "execution_count": 24,
   "metadata": {},
   "outputs": [],
   "source": [
    "RS = 42\n",
    "MODELS_PATH = os.path.join(os.getcwd(), 'models')"
   ]
  },
  {
   "cell_type": "code",
   "execution_count": 27,
   "metadata": {},
   "outputs": [
    {
     "name": "stdout",
     "output_type": "stream",
     "text": [
      "Number of tweets with humor: 869\n",
      "Number of tweets without humor: 1802\n"
     ]
    }
   ],
   "source": [
    "num_tweets_with_humor = len(parsed_df[parsed_df['humor'] == 1])\n",
    "num_tweets_without_humor = len(parsed_df[parsed_df['humor'] == 0])\n",
    "\n",
    "print(f\"Number of tweets with humor: {num_tweets_with_humor}\")\n",
    "print(f\"Number of tweets without humor: {num_tweets_without_humor}\")"
   ]
  },
  {
   "attachments": {},
   "cell_type": "markdown",
   "metadata": {},
   "source": [
    "We can see that the data is imbalanced, so in order to get better results we will need to use a metric that is not affected by the imbalance. We will use the F1 score. We will also investigate the use of class weights and balancing methods."
   ]
  },
  {
   "attachments": {},
   "cell_type": "markdown",
   "metadata": {},
   "source": [
    "To fine-tune hyperparameters of the models, we decided to use GridSearchCV. It allows us to specify a range of values for each hyperparameter, and it will exhaustively search over all possible combinations to determine the set of values that results in the highest model performance. It provides a build in cross-validation mechanism, so we don't have to implement it manually."
   ]
  },
  {
   "cell_type": "code",
   "execution_count": 25,
   "metadata": {},
   "outputs": [],
   "source": [
    "def get_best_estimator(\n",
    "    estimator: BaseEstimator,\n",
    "    param_grid: dict,\n",
    "    X: pd.DataFrame,\n",
    "    y: pd.Series,\n",
    "): \n",
    "    clf = GridSearchCV(\n",
    "        estimator=estimator,\n",
    "        param_grid=param_grid,\n",
    "        scoring='f1',\n",
    "        cv=KFold(n_splits=5, shuffle=True, random_state=RS),\n",
    "        return_train_score=True,\n",
    "        n_jobs=-1,\n",
    "    )\n",
    "\n",
    "    clf.fit(X, y)\n",
    "    \n",
    "    print(f'Hyperparameters found:')\n",
    "    display(clf.best_params_)\n",
    "    print(f'Best score: {clf.best_score_:.4}')\n",
    "\n",
    "    return {\n",
    "        'estimator': clf.best_estimator_,\n",
    "        'params': clf.best_params_,\n",
    "        'score': clf.best_score_,\n",
    "    }"
   ]
  },
  {
   "attachments": {},
   "cell_type": "markdown",
   "metadata": {},
   "source": [
    "Utility for loading and saving models"
   ]
  },
  {
   "cell_type": "code",
   "execution_count": 50,
   "metadata": {},
   "outputs": [],
   "source": [
    "def try_to_load_model(name: str):\n",
    "    if os.path.exists(f'{MODELS_PATH}{name}.pkl'):\n",
    "        with open(f'{MODELS_PATH}{name}.pkl', 'rb') as f:\n",
    "            model_data = pickle.load(f)\n",
    "            print(f'Loaded {name} model from file')\n",
    "            print(f'Hyperparameters:')\n",
    "            display(model_data[\"params\"])\n",
    "            print(f'Best score: {model_data[\"score\"]:.4}')\n",
    "            return model_data\n",
    "    else:\n",
    "        print(f'No {name} model found')\n",
    "        return None\n",
    "    \n",
    "def save_model(name: str, model_data):\n",
    "    print(f'Saving {name} model to file')\n",
    "    with open(f'{MODELS_PATH}/{name}.pkl', 'wb') as f:\n",
    "        pickle.dump(model_data, f)"
   ]
  },
  {
   "attachments": {},
   "cell_type": "markdown",
   "metadata": {},
   "source": [
    "Dataset balancing utility"
   ]
  },
  {
   "cell_type": "code",
   "execution_count": 28,
   "metadata": {},
   "outputs": [],
   "source": [
    "def balance_dataset(df: pd.DataFrame, method='undersample', target_col='humor')-> pd.DataFrame:\n",
    "    num_positive = len(df[df[target_col] == 1])\n",
    "    num_negative = len(df[df[target_col] == 0])\n",
    "    \n",
    "    if method == 'undersample':    \n",
    "        if num_positive > num_negative:\n",
    "            df_positive = df[df[target_col] == 1].sample(n=num_negative, random_state=RS)\n",
    "            df_negative = df[df[target_col] == 0]\n",
    "\n",
    "        else:\n",
    "            df_positive = df[df[target_col] == 1]\n",
    "            df_negative = df[df[target_col] == 0].sample(n=num_positive, random_state=RS)\n",
    "\n",
    "    elif method == 'oversample':\n",
    "        if num_positive > num_negative:\n",
    "            df_positive = df[df[target_col] == 1]\n",
    "            df_negative = df[df[target_col] == 0].sample(n=num_positive, replace=True, random_state=RS)\n",
    "\n",
    "        else:\n",
    "            df_positive = df[df[target_col] == 1].sample(n=num_negative, replace=True, random_state=RS)\n",
    "            df_negative = df[df[target_col] == 0]\n",
    "\n",
    "    else:\n",
    "        raise ValueError(f'Invalid method: {method}')\n",
    "    \n",
    "    return pd.concat([df_positive, df_negative]).reset_index(drop=True)\n"
   ]
  },
  {
   "cell_type": "code",
   "execution_count": 38,
   "metadata": {},
   "outputs": [],
   "source": [
    "def get_X_y(df: pd.DataFrame, target_col='humor') -> tuple[pd.DataFrame, pd.Series]:\n",
    "    X = df['representation'].apply(pd.Series)\n",
    "    y = df[target_col]\n",
    "\n",
    "    return X, y"
   ]
  },
  {
   "attachments": {},
   "cell_type": "markdown",
   "metadata": {},
   "source": [
    "For now we decided to train models on fasttext embeddings, but we will try other embeddings in the future."
   ]
  },
  {
   "cell_type": "code",
   "execution_count": 41,
   "metadata": {},
   "outputs": [],
   "source": [
    "X, y = get_X_y(fast_text_suc_df)\n",
    "X_train, X_test, y_train, y_test = train_test_split(X, y, test_size = 0.2, random_state = RS)"
   ]
  },
  {
   "attachments": {},
   "cell_type": "markdown",
   "metadata": {},
   "source": [
    "As the prediction models we have chosen the following:\n",
    "1. LogisticRegression\n",
    "2. SVC\n",
    "3. DecisionTreeClassifier\n",
    "4. KNeighborsClassifier\n",
    "\n",
    "as they can be considered a good representation of different ML families."
   ]
  },
  {
   "cell_type": "code",
   "execution_count": 43,
   "metadata": {},
   "outputs": [],
   "source": [
    "from sklearn.linear_model import LogisticRegression\n",
    "from sklearn.svm import SVC\n",
    "from sklearn.tree import DecisionTreeClassifier\n",
    "from sklearn.neighbors import KNeighborsClassifier"
   ]
  },
  {
   "cell_type": "code",
   "execution_count": 51,
   "metadata": {},
   "outputs": [],
   "source": [
    "fast_text_suc_models = {}"
   ]
  },
  {
   "attachments": {},
   "cell_type": "markdown",
   "metadata": {},
   "source": [
    "## SVC\n",
    "\n",
    "SVM are usually used for classification problems with a large number of features or with strongly unbalanced data. It may be a good choice for our problem.\n",
    "\n",
    "Hyperparameters we decided to tune:\n",
    "- `C`: Inverse regularization parameter. Regularization is a technique used to prevent overfitting in machine learning models, by adding a penalty term to the loss function that the model is trying to minimize. The higher the value the less the model is penalized for being complex and is more likely to fit to the training set (unfortunately, as well as overfit to it).\n",
    "  - *positive numbers* `{0.1, 1 (default), 10, 100}`\n",
    "- `kernel`: Function that computes the similarity between points that used to transform features into a higher dimensional space in order to find a way to create a hyperplane that separates the data.\n",
    "  - `rbf` (default) - uses gaussian function.\n",
    "  - `linear` - computes the dot product. (Same as LinearSVC)\n",
    "  - `poly` - uses polynomial function.\n",
    "  - `sigmoid` - uses sigmoid function.\n",
    "- `class_weight`: It helps the classifier to deal with imbalanced data.\n",
    "  - `balanced` - uses the values of y to automatically adjust weights inversely proportional to class frequencies in the input data. We will use it for imbalanced data.\n",
    "  - `None` (default) - all classes are supposed to have weight one. We will use it in case we balance the dataset manually.\n",
    "\n",
    "Some hyperparameters are kernel-specific. We decided to leave them as default and only focus on the influence the choice of regularization strength and kernel itself.\n",
    "\n",
    "Some important hyperparameters we decided to leave as default:\n",
    "- `probability: 'False'`: Whether to enable probability estimates. Slows down the training. We don't care about it, because we use `f1` as a metric.\n",
    "- `decision_function_shape: 'ovr'`: Whether to return a one-vs-rest (OvR) decision function or the one-vs-one. Applicable only for multi-class classification."
   ]
  },
  {
   "cell_type": "code",
   "execution_count": 53,
   "metadata": {},
   "outputs": [
    {
     "name": "stdout",
     "output_type": "stream",
     "text": [
      "No fast_text_suc_SVC model found\n",
      "Training fast_text_suc_SVC model\n",
      "Hyperparameters found:\n"
     ]
    },
    {
     "data": {
      "text/plain": [
       "{'C': 1, 'kernel': 'rbf'}"
      ]
     },
     "metadata": {},
     "output_type": "display_data"
    },
    {
     "name": "stdout",
     "output_type": "stream",
     "text": [
      "Best score: 0.674\n",
      "Saving fast_text_suc_SVC model to file\n"
     ]
    }
   ],
   "source": [
    "NAME = 'fast_text_suc_SVC'\n",
    "\n",
    "fast_text_suc_models[NAME] = try_to_load_model(NAME)\n",
    "\n",
    "if fast_text_suc_models[NAME] is None:\n",
    "    print(f'Training {NAME} model')\n",
    "\n",
    "    param_grid = {\n",
    "        'C': [0.1, 1, 10, 100],\n",
    "        'kernel': ['linear', 'poly', 'rbf', 'sigmoid'],\n",
    "    }\n",
    "\n",
    "    fast_text_suc_models[NAME] = {\n",
    "        **get_best_estimator(\n",
    "            estimator=SVC(random_state=RS, class_weight='balanced'),\n",
    "            param_grid=param_grid,\n",
    "            X=X_train,\n",
    "            y=y_train\n",
    "        )\n",
    "    }\n",
    "\n",
    "    save_model(NAME, fast_text_suc_models[NAME])\n"
   ]
  },
  {
   "attachments": {},
   "cell_type": "markdown",
   "metadata": {},
   "source": [
    "## Logistic Regression\n",
    "\n",
    "Logistic regression is a popular choice for binary classification tasks because it is simple and relatively fast. We don't know if linear decision boundary exists in our case so the results may not be the best, but we decided to test it anyway.\n",
    "\n",
    "Hyperparameters we decided to tune:\n",
    "- `C`: Inverse of regularization strength.\n",
    "  - *positive numbers* `{0.001, 0.01, 0.1, 1 (default), 10, 100, 300, 500}`\n",
    "- `solver`: Algorithm to use in the optimization problem. Solvers other than tested are recommended either for multi-class problems or when the number of features is very large.\n",
    "  - `liblinear` - we decided to test it as it is suggested as a good choice for small datasets.\n",
    "  - `lbfgs` (default)\n",
    "  - `newton-cg`\n",
    "- `class_weight`: It helps the classifier to deal with imbalanced data.\n",
    "  - `balanced` - uses the values of y to automatically adjust weights inversely proportional to class frequencies in the input data. We will use it for imbalanced data.\n",
    "  - `None` (default) - all classes are supposed to have weight one. We will use it in case we balance the dataset manually.\n",
    "\n",
    "\n",
    "Some important hyperparameters we decided to leave as default:\n",
    "- `penalty: 'l2'`: Used to specify the norm used in the penalization. Other penalties are not supported for all the solvers we wanted to try and we discovered that even with those that support it, the model wasn't very sensitive to the change of the penalty.\n",
    "- `fit_intercept: 'True'`: Specifies if a constant (a.k.a. bias or intercept) should be added to the decision function. There is no reason not to try to fit the intercept."
   ]
  },
  {
   "cell_type": "code",
   "execution_count": 54,
   "metadata": {},
   "outputs": [
    {
     "name": "stdout",
     "output_type": "stream",
     "text": [
      "No fast_text_suc_LogisticRegression model found\n",
      "Training fast_text_suc_LogisticRegression model\n",
      "Hyperparameters found:\n"
     ]
    },
    {
     "data": {
      "text/plain": [
       "{'C': 1, 'solver': 'newton-cg'}"
      ]
     },
     "metadata": {},
     "output_type": "display_data"
    },
    {
     "name": "stdout",
     "output_type": "stream",
     "text": [
      "Best score: 0.6645\n",
      "Saving fast_text_suc_LogisticRegression model to file\n"
     ]
    }
   ],
   "source": [
    "NAME = 'fast_text_suc_LogisticRegression'\n",
    "\n",
    "fast_text_suc_models[NAME] = try_to_load_model(NAME)\n",
    "\n",
    "if fast_text_suc_models[NAME] is None:\n",
    "    print(f'Training {NAME} model')\n",
    "\n",
    "    param_grid = {\n",
    "        'C': [0.001, 0.01, 0.1, 1, 10, 100, 300, 500],\n",
    "        'solver': ['newton-cg', 'liblinear', 'lbfgs']\n",
    "    }\n",
    "\n",
    "    fast_text_suc_models[NAME] = {\n",
    "        **get_best_estimator(\n",
    "            estimator=LogisticRegression(random_state=RS, class_weight='balanced'),\n",
    "            param_grid=param_grid,\n",
    "            X=X_train,\n",
    "            y=y_train,\n",
    "        )\n",
    "    }\n",
    "\n",
    "    save_model(NAME, fast_text_suc_models[NAME])"
   ]
  },
  {
   "attachments": {},
   "cell_type": "markdown",
   "metadata": {},
   "source": [
    "It seems like the LogisticRegression model doesn't perform well on the data. That may indicate that the decision boundary is not linear."
   ]
  },
  {
   "attachments": {},
   "cell_type": "markdown",
   "metadata": {},
   "source": [
    "## Decision Tree Classifier\n",
    "\n",
    "Decision trees are a popular choice for binary classification tasks because they are easy to interpret and visualize. They are widely use because they are able to automatically perform feature selection by choosing the most informative features to split on. However, decision trees can be prone to overfitting if they are too complex or the data is noisy. Furthermore, according to the scikit-learn documentation:\n",
    "> [Decision tree learners create biased trees if some classes dominate. It is therefore recommended to balance the dataset prior to fitting with the decision tree.](https://scikit-learn.org/stable/modules/tree.html#:~:text=Decision%20tree%20learners%20create%20biased%20trees%20if%20some%20classes%20dominate.%20It%20is%20therefore%20recommended%20to%20balance%20the%20dataset%20prior%20to%20fitting%20with%20the%20decision%20tree.)\n",
    "\n",
    "However we will still try to use class weights before we resort to balancing the dataset manually.\n",
    "\n",
    "Hyperparameters we decided to tune:\n",
    "- `criterion`: The function to measure the quality of a split.\n",
    "  - `gini` (default) - measures the impurity of a split in terms of the probability of misclassifying a randomly chosen element from the set. It is typically faster.\n",
    "  - `entropy` - measures the impurity of a split in terms of the amount of information required to identify the class label of a randomly chosen element from the set. It may be more effective for problems with large numbers of classes.\n",
    "- `max_depth`: The maximum depth of the tree.\n",
    "  - `None` (default) - nodes are expanded until all leaves are pure or until all leaves contain less than `min_samples_split` samples. It controls the size and complexity of the tree and can help prevent overfitting.\n",
    "  - *integers* `{4, 8, 12, 16, 20}`\n",
    "- `max_features`: The number of features to consider when looking for the best split. Because the number of features is relatively small, we didn't think there was a need for limmiting the number of features, but we decided to test it anyway.\n",
    "  - `None` (default) - all features are considered.\n",
    "  - *fractions* `{0.2, 0.4, 0.6, 0.8}` - the part of all features.\n",
    "- `min_samples_leaf`: Node only can be considered for splitting if it leaves at least `min_samples_leaf` samples for each of its children subtrees. Increasing the value can reduce overfitting.\n",
    "  - *integers* `{1 (default), 2, 4, 8, 16, 32}`\n",
    "- `min_samples_split`: The minimum number of samples required to split an internal node. Increasing the value can reduce tree complexity and overfitting.\n",
    "  - *integers* `{2 (default), 4, 8, 16, 32}`\n",
    "- `class_weight`: It helps the classifier to deal with imbalanced data.\n",
    "  - `balanced` - uses the values of y to automatically adjust weights inversely proportional to class frequencies in the input data. We will use it for imbalanced data.\n",
    "  - `None` (default) - all classes are supposed to have weight one. We will use it in case we balance the dataset manually.\n",
    "\n",
    "Some important hyperparameters we decided to leave as default:\n",
    "- `splitter: 'best'`: The strategy used to choose the split at each node.\n",
    "- `max_leaf_nodes: 'None'`: Can further decrease overfitting. If we had overfitting issues, that probably would be the next hyperparameter we would tune."
   ]
  },
  {
   "cell_type": "code",
   "execution_count": 73,
   "metadata": {},
   "outputs": [
    {
     "name": "stdout",
     "output_type": "stream",
     "text": [
      "No fast_text_suc_DecisionTreeClassifier model found\n",
      "Training fast_text_suc_DecisionTreeClassifier model\n",
      "Hyperparameters found:\n"
     ]
    },
    {
     "data": {
      "text/plain": [
       "{'criterion': 'entropy',\n",
       " 'max_depth': 4,\n",
       " 'max_features': 0.4,\n",
       " 'min_samples_leaf': 1,\n",
       " 'min_samples_split': 2}"
      ]
     },
     "metadata": {},
     "output_type": "display_data"
    },
    {
     "name": "stdout",
     "output_type": "stream",
     "text": [
      "Best score: 0.585\n",
      "Saving fast_text_suc_DecisionTreeClassifier model to file\n"
     ]
    }
   ],
   "source": [
    "NAME = 'fast_text_suc_DecisionTreeClassifier'\n",
    "\n",
    "fast_text_suc_models[NAME] = try_to_load_model(NAME)\n",
    "\n",
    "if fast_text_suc_models[NAME] is None:\n",
    "    print(f'Training {NAME} model')\n",
    "\n",
    "    param_grid = {\n",
    "        'criterion': ['gini', 'entropy'],\n",
    "        'max_depth': [None, 4, 8, 12, 16, 20],\n",
    "        'max_features': [None, 0.2, 0.4, 0.6, 0.8],\n",
    "        'min_samples_leaf': [1, 2, 4, 8, 16, 32],\n",
    "        'min_samples_split': [2, 4, 8, 16, 32],\n",
    "    }\n",
    "\n",
    "    fast_text_suc_models[NAME] = {\n",
    "        **get_best_estimator(\n",
    "            estimator=DecisionTreeClassifier(random_state=RS, class_weight='balanced'),\n",
    "            param_grid=param_grid,\n",
    "            X=X_train,\n",
    "            y=y_train,\n",
    "        )\n",
    "    }\n",
    "\n",
    "    save_model(NAME, fast_text_suc_models[NAME])"
   ]
  },
  {
   "attachments": {},
   "cell_type": "markdown",
   "metadata": {},
   "source": [
    "## KNeighborsClassifier\n",
    "\n",
    "Algorithm works by finding the K nearest neighbors to a new data point and assigning it the most common class label among those neighbors. KNN is non-parametric, which means it does not make any assumptions about the underlying distribution of the data. \n",
    "\n",
    "What is of the most importance to us is that KNN usually handles non-linearly separable data well.\n",
    "\n",
    "Hyperparameters we decided to tune:\n",
    "- `n_neighbors`: Number of neighbors to use by default for kneighbors queries.\n",
    "  - *positive integers* `{3, 5 (default), 7, 9, 11, 13, 15, 17, 19, 21, 23, 25}`\n",
    "- `weights`: Weight function used in prediction.\n",
    "  - `uniform` - all points in each neighborhood are weighted equally.\n",
    "  - `distance` - weight points by the inverse of their distance. In this case, closer neighbors of a query point will have a greater influence than neighbors which are further away.\n",
    "- `p`: Power parameter for the Minkowski metric. For value of `1` the distance between points is calculated as 'Manhattan distance' and for value of `2` as 'Euclidean distance'.\n",
    "  - *positive integers* `{1, 2 (default), 3, 4}`\n",
    "\n",
    "Some important hyperparameters we decided to leave as default:\n",
    "- `algorithm: 'auto'`: Algorithm used to compute the nearest neighbors is chosen automatically based on the input data. It does not affect the performance of the model itself but influences the speed of the training.\n",
    "- `metric: 'minkowski'`: The distance metric to use for the tree. Minkowski metic together with `p` parameter gives enough control over the way the distance is calculated."
   ]
  },
  {
   "cell_type": "code",
   "execution_count": 74,
   "metadata": {},
   "outputs": [
    {
     "name": "stdout",
     "output_type": "stream",
     "text": [
      "No fast_text_suc_KNeighborsClassifier model found\n",
      "Training fast_text_suc_KNeighborsClassifier model\n",
      "Hyperparameters found:\n"
     ]
    },
    {
     "data": {
      "text/plain": [
       "{'n_neighbors': 3, 'p': 3, 'weights': 'distance'}"
      ]
     },
     "metadata": {},
     "output_type": "display_data"
    },
    {
     "name": "stdout",
     "output_type": "stream",
     "text": [
      "Best score: 0.5203\n",
      "Saving fast_text_suc_KNeighborsClassifier model to file\n"
     ]
    }
   ],
   "source": [
    "NAME = 'fast_text_suc_KNeighborsClassifier'\n",
    "\n",
    "fast_text_suc_models[NAME] = try_to_load_model(NAME)\n",
    "\n",
    "if fast_text_suc_models[NAME] is None:\n",
    "    print(f'Training {NAME} model')\n",
    "\n",
    "    param_grid = {\n",
    "        'n_neighbors': [3, 5, 7, 9, 11, 13, 15, 17, 19, 21, 23, 25],\n",
    "        'weights': ['uniform', 'distance'],\n",
    "        'p': [1, 2, 3, 4]\n",
    "    }\n",
    "\n",
    "    fast_text_suc_models[NAME] = {\n",
    "        **get_best_estimator(\n",
    "            estimator=KNeighborsClassifier(),\n",
    "            param_grid=param_grid,\n",
    "            X=X_train,\n",
    "            y=y_train,\n",
    "        )\n",
    "    }\n",
    "\n",
    "    save_model(NAME, fast_text_suc_models[NAME])"
   ]
  },
  {
   "attachments": {},
   "cell_type": "markdown",
   "metadata": {},
   "source": [
    "## Results"
   ]
  },
  {
   "cell_type": "code",
   "execution_count": 75,
   "metadata": {},
   "outputs": [],
   "source": [
    "from sklearn import metrics\n",
    "import matplotlib.pyplot as plt\n",
    "import seaborn as sns"
   ]
  },
  {
   "attachments": {},
   "cell_type": "markdown",
   "metadata": {},
   "source": [
    "Let's evaluate each of the models on the test set and compare the results."
   ]
  },
  {
   "cell_type": "code",
   "execution_count": 79,
   "metadata": {},
   "outputs": [
    {
     "data": {
      "image/png": "[encoded data removed]",
      "text/plain": [
       "<Figure size 640x480 with 2 Axes>"
      ]
     },
     "metadata": {},
     "output_type": "display_data"
    },
    {
     "data": {
      "image/png": "[encoded data removed]",
      "text/plain": [
       "<Figure size 640x480 with 2 Axes>"
      ]
     },
     "metadata": {},
     "output_type": "display_data"
    },
    {
     "data": {
      "image/png": "[encoded data removed]",
      "text/plain": [
       "<Figure size 640x480 with 2 Axes>"
      ]
     },
     "metadata": {},
     "output_type": "display_data"
    },
    {
     "data": {
      "image/png": "[encoded data removed]",
      "text/plain": [
       "<Figure size 640x480 with 2 Axes>"
      ]
     },
     "metadata": {},
     "output_type": "display_data"
    }
   ],
   "source": [
    "frames = []\n",
    "\n",
    "for name, model in fast_text_suc_models.items():\n",
    "    y_pred = model['estimator'].predict(X_test)\n",
    "    \n",
    "    frames.append({\n",
    "        'name': name,\n",
    "        'accuracy': metrics.accuracy_score(y_test, y_pred),\n",
    "        'precision': metrics.precision_score(y_test, y_pred),\n",
    "        'recall': metrics.recall_score(y_test, y_pred),\n",
    "        'f1': metrics.f1_score(y_test, y_pred),\n",
    "        'roc_auc': metrics.roc_auc_score(y_test, y_pred),\n",
    "    })\n",
    "\n",
    "    ax = sns.heatmap(metrics.confusion_matrix(y_test, y_pred), annot=True, fmt='d', cmap='Blues')\n",
    "   \n",
    "    ax.set_xlabel(\"Predicted Diagnosis\", fontsize=14, labelpad=20)\n",
    "    ax.xaxis.set_ticklabels(['Negative', 'Positive'])\n",
    "\n",
    "    ax.set_ylabel(\"Actual Diagnosis\", fontsize=14, labelpad=20)\n",
    "    ax.yaxis.set_ticklabels(['Negative', 'Positive'])\n",
    "\n",
    "    ax.set_title(name, fontsize=14, pad=20)\n",
    "\n",
    "    plt.show()\n",
    "\n",
    "metrics_df = pd.DataFrame(frames)"
   ]
  },
  {
   "cell_type": "code",
   "execution_count": 107,
   "metadata": {},
   "outputs": [
    {
     "data": {
      "image/png": "[encoded data removed]",
      "text/plain": [
       "<Figure size 640x480 with 1 Axes>"
      ]
     },
     "metadata": {},
     "output_type": "display_data"
    },
    {
     "data": {
      "image/png": "[encoded data removed]",
      "text/plain": [
       "<Figure size 640x480 with 1 Axes>"
      ]
     },
     "metadata": {},
     "output_type": "display_data"
    },
    {
     "data": {
      "image/png": "[encoded data removed]",
      "text/plain": [
       "<Figure size 640x480 with 1 Axes>"
      ]
     },
     "metadata": {},
     "output_type": "display_data"
    },
    {
     "data": {
      "image/png": "[encoded data removed]",
      "text/plain": [
       "<Figure size 640x480 with 1 Axes>"
      ]
     },
     "metadata": {},
     "output_type": "display_data"
    },
    {
     "data": {
      "image/png": "[encoded data removed]",
      "text/plain": [
       "<Figure size 640x480 with 1 Axes>"
      ]
     },
     "metadata": {},
     "output_type": "display_data"
    }
   ],
   "source": [
    "metrics_df = metrics_df.set_index('name')\n",
    "\n",
    "for col in metrics_df.columns:\n",
    "    metrics_df[col].plot(kind='barh')\n",
    "    plt.title(col)\n",
    "    plt.grid(axis='x', alpha=0.5)\n",
    "    plt.ylabel('')\n",
    "    plt.show()\n",
    "\n",
    "\n"
   ]
  },
  {
   "cell_type": "code",
   "execution_count": 111,
   "metadata": {},
   "outputs": [
    {
     "data": {
      "text/html": [
       "<div>\n",
       "<style scoped>\n",
       "    .dataframe tbody tr th:only-of-type {\n",
       "        vertical-align: middle;\n",
       "    }\n",
       "\n",
       "    .dataframe tbody tr th {\n",
       "        vertical-align: top;\n",
       "    }\n",
       "\n",
       "    .dataframe thead th {\n",
       "        text-align: right;\n",
       "    }\n",
       "</style>\n",
       "<table border=\"1\" class=\"dataframe\">\n",
       "  <thead>\n",
       "    <tr style=\"text-align: right;\">\n",
       "      <th></th>\n",
       "      <th>accuracy</th>\n",
       "      <th>precision</th>\n",
       "      <th>recall</th>\n",
       "      <th>f1</th>\n",
       "      <th>roc_auc</th>\n",
       "    </tr>\n",
       "    <tr>\n",
       "      <th>name</th>\n",
       "      <th></th>\n",
       "      <th></th>\n",
       "      <th></th>\n",
       "      <th></th>\n",
       "      <th></th>\n",
       "    </tr>\n",
       "  </thead>\n",
       "  <tbody>\n",
       "    <tr>\n",
       "      <th>fast_text_suc_SVC</th>\n",
       "      <td>0.775701</td>\n",
       "      <td>0.609626</td>\n",
       "      <td>0.708075</td>\n",
       "      <td>0.655172</td>\n",
       "      <td>0.756444</td>\n",
       "    </tr>\n",
       "    <tr>\n",
       "      <th>fast_text_suc_LogisticRegression</th>\n",
       "      <td>0.768224</td>\n",
       "      <td>0.591133</td>\n",
       "      <td>0.745342</td>\n",
       "      <td>0.659341</td>\n",
       "      <td>0.761708</td>\n",
       "    </tr>\n",
       "    <tr>\n",
       "      <th>fast_text_suc_DecisionTreeClassifier</th>\n",
       "      <td>0.665421</td>\n",
       "      <td>0.460526</td>\n",
       "      <td>0.652174</td>\n",
       "      <td>0.539846</td>\n",
       "      <td>0.661648</td>\n",
       "    </tr>\n",
       "    <tr>\n",
       "      <th>fast_text_suc_KNeighborsClassifier</th>\n",
       "      <td>0.794393</td>\n",
       "      <td>0.757576</td>\n",
       "      <td>0.465839</td>\n",
       "      <td>0.576923</td>\n",
       "      <td>0.700834</td>\n",
       "    </tr>\n",
       "  </tbody>\n",
       "</table>\n",
       "</div>"
      ],
      "text/plain": [
       "                                      accuracy  precision    recall        f1  \\\n",
       "name                                                                            \n",
       "fast_text_suc_SVC                     0.775701   0.609626  0.708075  0.655172   \n",
       "fast_text_suc_LogisticRegression      0.768224   0.591133  0.745342  0.659341   \n",
       "fast_text_suc_DecisionTreeClassifier  0.665421   0.460526  0.652174  0.539846   \n",
       "fast_text_suc_KNeighborsClassifier    0.794393   0.757576  0.465839  0.576923   \n",
       "\n",
       "                                       roc_auc  \n",
       "name                                            \n",
       "fast_text_suc_SVC                     0.756444  \n",
       "fast_text_suc_LogisticRegression      0.761708  \n",
       "fast_text_suc_DecisionTreeClassifier  0.661648  \n",
       "fast_text_suc_KNeighborsClassifier    0.700834  "
      ]
     },
     "metadata": {},
     "output_type": "display_data"
    }
   ],
   "source": [
    "display(metrics_df)"
   ]
  },
  {
   "attachments": {},
   "cell_type": "markdown",
   "metadata": {},
   "source": [
    "We can see that the highest accuracy was obtained by KNeighborsClassifier. However, we should keep in mind that the accuracy is not the best metric for imbalanced data. If we look at the confusion matrix for KNN it is clear that the model tends to predict tweets as non-humorous (majority class) and has a hard time to correctly classify texts containing humour.\n",
    "\n",
    "When it comes to F1 score, the best performing model was surprisingly LogisticRegression, however the performance is not satisfactory. In future we will consider tweaking current way of feature extraction, try other representations and different ML models in order to improve the results."
   ]
  }
 ],
 "metadata": {
  "kernelspec": {
   "display_name": ".venv",
   "language": "python",
   "name": "python3"
  },
  "language_info": {
   "codemirror_mode": {
    "name": "ipython",
    "version": 3
   },
   "file_extension": ".py",
   "mimetype": "text/x-python",
   "name": "python",
   "nbconvert_exporter": "python",
   "pygments_lexer": "ipython3",
   "version": "3.11.2"
  },
  "orig_nbformat": 4
 },
 "nbformat": 4,
 "nbformat_minor": 2
}
